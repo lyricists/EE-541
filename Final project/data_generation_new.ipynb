{
 "cells": [
  {
   "cell_type": "code",
   "execution_count": 1,
   "metadata": {},
   "outputs": [],
   "source": [
    "import os\n",
    "import numpy as np\n",
    "import pandas as pd\n",
    "import matplotlib.pyplot as plt\n",
    "import seaborn as sns\n",
    "from scipy.io import wavfile\n",
    "from scipy.fft import fft, fftfreq\n",
    "from scipy.signal import spectrogram\n",
    "from sklearn.preprocessing import StandardScaler\n",
    "from sklearn.decomposition import PCA\n",
    "import random\n",
    "import math"
   ]
  },
  {
   "cell_type": "code",
   "execution_count": 2,
   "metadata": {},
   "outputs": [],
   "source": [
    "def find_min_samples(folder_path):\n",
    "    files = [os.path.join(folder_path, file) for file in os.listdir(folder_path) if file.endswith('.wav')]\n",
    "\n",
    "    min_samples = float('inf')\n",
    "    for file in files:\n",
    "        fs, signal_wave = wavfile.read(file)\n",
    "        min_samples = min(min_samples, len(signal_wave))\n",
    "\n",
    "    return min_samples"
   ]
  },
  {
   "cell_type": "code",
   "execution_count": 3,
   "metadata": {},
   "outputs": [],
   "source": [
    "def save_spectrogramPCA_plot(image, filename, factor):\n",
    "    plt.figure(figsize=(10,10))\n",
    "\n",
    "    c = plt.pcolormesh(image, cmap = \"viridis\")\n",
    "    plt.axis('off')\n",
    "    \n",
    "    tmp = c.get_clim()\n",
    "    c.set_clim(-10, 10)\n",
    "    \n",
    "    plt.savefig(filename, bbox_inches='tight', pad_inches=0)\n",
    "    plt.close()"
   ]
  },
  {
   "cell_type": "code",
   "execution_count": 4,
   "metadata": {},
   "outputs": [],
   "source": [
    "def concatenate_signals(f_selected, fs, sig_len, folder_path, train_indices, val_indices, test_indices):\n",
    "    \n",
    "    train_split, validation_split, test_split = 0.5, 0.25, 0.25\n",
    "    shuffle_dataset = True\n",
    "    \n",
    "    time = np.linspace(0., sig_len/fs, sig_len)\n",
    "    signal_audio_train = np.empty((f_selected,10)); signal_audio_val = np.empty((f_selected,10)); signal_audio_test = np.empty((f_selected,10))\n",
    "    files = [os.path.join(folder_path, file) for file in os.listdir(folder_path) if file.endswith('.wav')]\n",
    "\n",
    "    for filename in files:\n",
    "        _, signal = wavfile.read(filename)\n",
    "        freq, time, mag = spectrogram(signal[:sig_len], fs, nperseg = 10000, nfft = 50000)\n",
    "        number = int(filename.split('_')[1].split('.')[0])\n",
    "        if (number in train_indices):\n",
    "            signal_audio_train = np.concatenate((signal_audio_train, np.log(mag + 1e-6)[:f_selected,:]), axis = 1)\n",
    "        elif (number in test_indices):\n",
    "            signal_audio_test = np.concatenate((signal_audio_test, np.log(mag + 1e-6)[:f_selected,:]), axis = 1)\n",
    "        elif (number in val_indices):\n",
    "            signal_audio_val = np.concatenate((signal_audio_val, np.log(mag + 1e-6)[:f_selected,:]), axis = 1)\n",
    "        \n",
    "    signal_audio_train = signal_audio_train[:,10:];  signal_audio_val = signal_audio_val[:,10:]; signal_audio_test = signal_audio_test[:,10:]\n",
    "    return signal_audio_train, signal_audio_val, signal_audio_test"
   ]
  },
  {
   "cell_type": "code",
   "execution_count": 5,
   "metadata": {},
   "outputs": [],
   "source": [
    "def generate_spectograms(folder_path, save_path, data_train, data_val, data_test, factor, train_indices, val_indices, test_indices):\n",
    "    files = [os.path.join(folder_path, file) for file in os.listdir(folder_path) if file.endswith('.wav')]\n",
    "    cnt_train = 0; cnt_test = 0; cnt_val = 0\n",
    "    for filename in files:\n",
    "        audio_name = os.path.splitext(os.path.basename(filename))[0]\n",
    "        number = int(filename.split('_')[1].split('.')[0])\n",
    "        label = audio_name.split('_')[0]\n",
    "        if (number in train_indices):\n",
    "            savename = f\"{save_path}/train/{label}/{audio_name}.png\"\n",
    "            save_spectrogramPCA_plot(data_train[:,0+(cnt_train*10):10+(cnt_train*10)], savename, factor)\n",
    "            cnt_train += 1\n",
    "        elif (number in val_indices):\n",
    "            savename = f\"{save_path}/val/{label}/{audio_name}.png\"\n",
    "            save_spectrogramPCA_plot(data_val[:,0+(cnt_val*10):10+(cnt_val*10)], savename, factor)\n",
    "            cnt_val += 1\n",
    "        elif (number in test_indices):\n",
    "            savename = f\"{save_path}/test/{label}/{audio_name}.png\"\n",
    "            save_spectrogramPCA_plot(data_test[:,0+(cnt_test*10):10+(cnt_test*10)], savename, factor)\n",
    "            cnt_test += 1"
   ]
  },
  {
   "cell_type": "code",
   "execution_count": 6,
   "metadata": {},
   "outputs": [],
   "source": [
    "def run_pca(signal_train, signal_val, signal_test, rate, f_selected):\n",
    "    scaler = StandardScaler()\n",
    "    scaler.fit(signal_train.T)\n",
    "    scaled_signal_train = scaler.transform(signal_train.T); scaled_signal_val = scaler.transform(signal_val.T); scaled_signal_test = scaler.transform(signal_test.T)\n",
    "    if (rate ==1):\n",
    "        pcaFit_train = scaled_signal_train.T; pcaFit_val = scaled_signal_val.T; pcaFit_test = scaled_signal_test.T\n",
    "        pca = []\n",
    "    else:\n",
    "        pca = PCA(rate)\n",
    "        pca.fit(scaled_signal_train)\n",
    "        pcaFit_train = pca.transform(scaled_signal_train).T; pcaFit_val = pca.transform(scaled_signal_val).T; pcaFit_test = pca.transform(scaled_signal_test).T\n",
    "    return pcaFit_train, pcaFit_val, pcaFit_test, pca"
   ]
  },
  {
   "cell_type": "code",
   "execution_count": 7,
   "metadata": {},
   "outputs": [],
   "source": [
    "audio_data = \"./data/\"\n",
    "minor_folder_audio = os.path.join(audio_data, \"Minor\")\n",
    "major_folder_audio = os.path.join(audio_data, \"Major\")"
   ]
  },
  {
   "cell_type": "code",
   "execution_count": 8,
   "metadata": {},
   "outputs": [],
   "source": [
    "min_samples_minor = find_min_samples(minor_folder_audio)\n",
    "min_samples_major = find_min_samples(major_folder_audio)\n",
    "overall_min_samples = min(min_samples_minor, min_samples_major)"
   ]
  },
  {
   "cell_type": "code",
   "execution_count": 9,
   "metadata": {},
   "outputs": [],
   "source": [
    "def get_train_val_test_data(folder):\n",
    "\n",
    "    train_indices, val_indices, test_indices = [], [], []\n",
    "    \n",
    "    train_split, validation_split, test_split = 0.5, 0.25, 0.25\n",
    "    random.seed(17)\n",
    "    np.random.seed(17)\n",
    "    shuffle_dataset = True\n",
    "    \n",
    "    files = [os.path.join(folder, file) for file in os.listdir(folder) if file.endswith('.wav')]\n",
    "\n",
    "    dataset_size = len(files)\n",
    "    indices = list(range(dataset_size))\n",
    "    class_indices = [list(range(0,dataset_size))]\n",
    "    \n",
    "    for indices in class_indices:\n",
    "        random.shuffle(indices)\n",
    "        num_samples = len(indices)\n",
    "        train_size = int(train_split * num_samples)\n",
    "        val_size = test_size = int(validation_split * num_samples)\n",
    "        train_indices.extend(indices[:train_size])\n",
    "        val_indices.extend(indices[train_size:train_size + val_size])\n",
    "        test_indices.extend(indices[train_size + val_size:train_size + val_size + test_size])\n",
    "    return train_indices, val_indices, test_indices"
   ]
  },
  {
   "cell_type": "code",
   "execution_count": 10,
   "metadata": {},
   "outputs": [],
   "source": [
    "def process_data(f_selected_values, explained_variance_values, fs, overall_min_samples, major_folder_audio, minor_folder_audio, factor):\n",
    "\n",
    "    major_train_indices, major_val_indices, major_test_indices = get_train_val_test_data(major_folder_audio)\n",
    "    minor_train_indices, minor_val_indices, minor_test_indices = get_train_val_test_data(minor_folder_audio)\n",
    "\n",
    "    for f_selected in f_selected_values:\n",
    "\n",
    "        signal_major_train, signal_major_val, signal_major_test = concatenate_signals(f_selected, fs, overall_min_samples, major_folder_audio,  major_train_indices, major_val_indices, major_test_indices)\n",
    "        signal_minor_train, signal_minor_val, signal_minor_test = concatenate_signals(f_selected, fs, overall_min_samples, minor_folder_audio,  minor_train_indices, minor_val_indices, minor_test_indices)\n",
    "        \n",
    "        for explained_variance in explained_variance_values:\n",
    "\n",
    "            print(f\"Processing f_selected: {f_selected}, explained_variance: {explained_variance}\")\n",
    "            pca_fit_major_train, pca_fit_major_val, pca_fit_major_test, pca_major = run_pca(signal_major_train, signal_major_val, signal_major_test, explained_variance, f_selected)\n",
    "            pca_fit_minor_train, pca_fit_minor_val, pca_fit_minor_test, pca_minor = run_pca(signal_minor_train, signal_minor_val, signal_minor_test, explained_variance, f_selected)\n",
    "            \n",
    "            if (explained_variance == 1):\n",
    "                images_dir = f\"./data/audio-images/PCA_f{f_selected}_expVar{explained_variance}_ncompMinor{f_selected}_ncompMajor{f_selected}\"\n",
    "            else:\n",
    "                images_dir = f\"./data/audio-images/PCA_f{f_selected}_expVar{explained_variance}_ncompMinor{pca_minor.n_components_}_ncompMajor{pca_major.n_components_}\"\n",
    "\n",
    "            folder_names = [\"train\", \"test\", \"val\"]\n",
    "            for folder_name in folder_names:\n",
    "                train_subfolder = os.path.join(images_dir, folder_name)\n",
    "                test_subfolder = os.path.join(images_dir, folder_name)\n",
    "                val_subfolder = os.path.join(images_dir, folder_name)\n",
    "\n",
    "                for subfolder in [train_subfolder, test_subfolder, val_subfolder]:\n",
    "                    minor_folder = os.path.join(subfolder, \"Minor\")\n",
    "                    major_folder = os.path.join(subfolder, \"Major\")\n",
    "                    for folder in [minor_folder, major_folder]:\n",
    "                        if not os.path.exists(folder):\n",
    "                            os.makedirs(folder)\n",
    "\n",
    "            print(\"Generating spectograms\")\n",
    "            generate_spectograms(major_folder_audio, images_dir, pca_fit_major_train, pca_fit_major_val, pca_fit_major_test,factor, major_train_indices, major_val_indices, major_test_indices)\n",
    "            generate_spectograms(minor_folder_audio, images_dir, pca_fit_minor_train, pca_fit_minor_val, pca_fit_minor_test, factor, minor_train_indices, minor_val_indices, minor_test_indices)"
   ]
  },
  {
   "cell_type": "code",
   "execution_count": 11,
   "metadata": {},
   "outputs": [],
   "source": [
    "f_selected_values = [6500]\n",
    "explained_variance_values = [0.1, 0.2, 0.3, 0.4, 0.5, 0.6]\n",
    "fs = 44100\n",
    "factor = 2"
   ]
  },
  {
   "cell_type": "code",
   "execution_count": 12,
   "metadata": {},
   "outputs": [
    {
     "name": "stdout",
     "output_type": "stream",
     "text": [
      "Processing f_selected: 6500, explained_variance: 1\n",
      "Generating spectograms\n"
     ]
    }
   ],
   "source": [
    "process_data(f_selected_values, explained_variance_values, fs, overall_min_samples, major_folder_audio, minor_folder_audio, factor)"
   ]
  }
 ],
 "metadata": {
  "kernelspec": {
   "display_name": "EE541_project",
   "language": "python",
   "name": "python3"
  },
  "language_info": {
   "codemirror_mode": {
    "name": "ipython",
    "version": 3
   },
   "file_extension": ".py",
   "mimetype": "text/x-python",
   "name": "python",
   "nbconvert_exporter": "python",
   "pygments_lexer": "ipython3",
   "version": "3.9.18"
  }
 },
 "nbformat": 4,
 "nbformat_minor": 2
}
