{
 "cells": [
  {
   "cell_type": "code",
   "execution_count": 1,
   "metadata": {},
   "outputs": [],
   "source": [
    "# Import library\n",
    "\n",
    "import os\n",
    "import numpy as np\n",
    "import pandas as pd\n",
    "import matplotlib.pyplot as plt\n",
    "import seaborn as sns\n",
    "from scipy.io import wavfile\n",
    "from scipy.fft import fft, fftfreq\n",
    "from scipy.signal import spectrogram\n",
    "from sklearn.preprocessing import StandardScaler\n",
    "from sklearn.decomposition import PCA"
   ]
  },
  {
   "cell_type": "code",
   "execution_count": 2,
   "metadata": {},
   "outputs": [],
   "source": [
    "# Load data\n",
    "\n",
    "path_major = '/Users/woojaejeong/Desktop/Program/USC/Computational Introduction to Deep Learning/Project/Data/Major/'\n",
    "path_minor = '/Users/woojaejeong/Desktop/Program/USC/Computational Introduction to Deep Learning/Project/Data/Minor/'\n",
    "\n",
    "filelist_major = os.listdir(path_major)\n",
    "filelist_minor = os.listdir(path_minor)"
   ]
  },
  {
   "cell_type": "code",
   "execution_count": 3,
   "metadata": {},
   "outputs": [],
   "source": [
    "# Spectrogram\n",
    "\n",
    "fs = 44100\n",
    "sig_len = 94815\n",
    "time = np.linspace(0., sig_len/fs, sig_len)\n",
    "\n",
    "signal_major = np.empty((3500,10))\n",
    "\n",
    "for filename in filelist_major:\n",
    "\n",
    "    file_major = f\"{path_major}{filename}\"\n",
    "\n",
    "    _, signal = wavfile.read(file_major)\n",
    "\n",
    "    freq, time, mag = spectrogram(signal[:sig_len], fs, nperseg = 10000, nfft = 50000)\n",
    "\n",
    "    signal_major = np.concatenate((signal_major, np.log(mag + 1e-6)[:3500,:]), axis = 1)\n",
    "\n",
    "signal_minor = np.empty((3500,10))\n",
    "\n",
    "for filename in filelist_minor:\n",
    "\n",
    "    file_minor = f\"{path_minor}{filename}\"\n",
    "\n",
    "    _, signal = wavfile.read(file_minor)\n",
    "\n",
    "    freq, time, mag = spectrogram(signal[:sig_len], fs, nperseg = 10000, nfft = 50000)\n",
    "\n",
    "    signal_minor = np.concatenate((signal_minor, np.log(mag + 1e-6)[:3500,:]), axis = 1)\n",
    "\n",
    "signal_major = signal_major[:,10:]; signal_minor = signal_minor[:,10:]\n"
   ]
  },
  {
   "cell_type": "code",
   "execution_count": 4,
   "metadata": {},
   "outputs": [],
   "source": [
    "# Standardize the data\n",
    "\n",
    "scaler = StandardScaler()\n",
    "\n",
    "# Fit and apply transform to the major set.\n",
    "scaler.fit(signal_major)\n",
    "tf_major = scaler.transform(signal_major)\n",
    "\n",
    "# Fit and apply transform to the minor set.\n",
    "scaler.fit(signal_minor)\n",
    "tf_minor = scaler.transform(signal_minor)"
   ]
  },
  {
   "cell_type": "code",
   "execution_count": 5,
   "metadata": {},
   "outputs": [],
   "source": [
    "# Run PCA \n",
    "\n",
    "def runPCA(data, rate):\n",
    "    pca = PCA(rate)\n",
    "    pca.fit(data.T)\n",
    "\n",
    "    pcaFit = pca.transform(data.T).T\n",
    "\n",
    "    return pcaFit\n",
    "\n",
    "# Major\n",
    "major_image1 = runPCA(tf_major, 0.7)\n",
    "major_image2 = runPCA(tf_major, 0.8)\n",
    "major_image3 = runPCA(tf_major, 0.9)\n",
    "\n",
    "# Minor\n",
    "minor_image1 = runPCA(tf_minor, 0.7)\n",
    "minor_image2 = runPCA(tf_minor, 0.8)\n",
    "minor_image3 = runPCA(tf_minor, 0.9)\n",
    "\n",
    "def save_spectrogramPCA_plot(image, filename):\n",
    "    # Create a figure with no axes\n",
    "    plt.figure(figsize=(10,10))\n",
    "\n",
    "    c = plt.pcolormesh(image, cmap = \"bone\")\n",
    "    plt.axis('off')  # Hide the axes\n",
    "    \n",
    "    tmp = c.get_clim()\n",
    "    c.set_clim(0, tmp[1]/2)\n",
    "    \n",
    "    # Save the figure without padding and axes\n",
    "    plt.savefig(filename, bbox_inches='tight', pad_inches=0)\n",
    "    plt.close()\n",
    "\n",
    "save_path1 = '/Users/woojaejeong/Desktop/Program/USC/Computational Introduction to Deep Learning/Project/Data/TF map PCA/3.5kHz/0.7/Major/'\n",
    "save_path2 = '/Users/woojaejeong/Desktop/Program/USC/Computational Introduction to Deep Learning/Project/Data/TF map PCA/3.5kHz/0.8/Major/'\n",
    "save_path3 = '/Users/woojaejeong/Desktop/Program/USC/Computational Introduction to Deep Learning/Project/Data/TF map PCA/3.5kHz/0.9/Major/'\n",
    "\n",
    "cnt = 0\n",
    "\n",
    "for filename in filelist_major:\n",
    "\n",
    "    savename = f\"{save_path1}{filename.replace('.wav','')}.png\"\n",
    "    save_spectrogramPCA_plot(major_image1[:,0+(cnt*10):10+(cnt*10)], savename)\n",
    "\n",
    "    savename = f\"{save_path2}{filename.replace('.wav','')}.png\"\n",
    "    save_spectrogramPCA_plot(major_image2[:,0+(cnt*10):10+(cnt*10)], savename)\n",
    "\n",
    "    savename = f\"{save_path3}{filename.replace('.wav','')}.png\"\n",
    "    save_spectrogramPCA_plot(major_image3[:,0+(cnt*10):10+(cnt*10)], savename)\n",
    "\n",
    "    cnt += 1\n",
    "\n",
    "save_path1 = '/Users/woojaejeong/Desktop/Program/USC/Computational Introduction to Deep Learning/Project/Data/TF map PCA/3.5kHz/0.7/Minor/'\n",
    "save_path2 = '/Users/woojaejeong/Desktop/Program/USC/Computational Introduction to Deep Learning/Project/Data/TF map PCA/3.5kHz/0.8/Minor/'\n",
    "save_path3 = '/Users/woojaejeong/Desktop/Program/USC/Computational Introduction to Deep Learning/Project/Data/TF map PCA/3.5kHz/0.9/Minor/'\n",
    "\n",
    "cnt = 0\n",
    "\n",
    "for filename in filelist_minor:\n",
    "\n",
    "    savename = f\"{save_path1}{filename.replace('.wav','')}.png\"\n",
    "    save_spectrogramPCA_plot(minor_image1[:,0+(cnt*10):10+(cnt*10)], savename)\n",
    "\n",
    "    savename = f\"{save_path2}{filename.replace('.wav','')}.png\"\n",
    "    save_spectrogramPCA_plot(minor_image2[:,0+(cnt*10):10+(cnt*10)], savename)\n",
    "\n",
    "    savename = f\"{save_path3}{filename.replace('.wav','')}.png\"\n",
    "    save_spectrogramPCA_plot(minor_image3[:,0+(cnt*10):10+(cnt*10)], savename)\n",
    "\n",
    "    cnt += 1\n"
   ]
  },
  {
   "cell_type": "code",
   "execution_count": 6,
   "metadata": {},
   "outputs": [
    {
     "data": {
      "image/png": "[encoded data removed]",
      "text/plain": [
       "<Figure size 432x288 with 1 Axes>"
      ]
     },
     "metadata": {
      "needs_background": "light"
     },
     "output_type": "display_data"
    },
    {
     "data": {
      "image/png": "[encoded data removed]",
      "text/plain": [
       "<Figure size 432x288 with 1 Axes>"
      ]
     },
     "metadata": {
      "needs_background": "light"
     },
     "output_type": "display_data"
    }
   ],
   "source": [
    "plt.pcolormesh(signal_major[:,0+10:10+10], cmap = \"bone\")\n",
    "plt.show()\n",
    "\n",
    "c = plt.pcolormesh(major_image3[:,:10], cmap = \"bone\")\n",
    "tmp = c.get_clim()\n",
    "c.set_clim(0, tmp[1]/2)\n",
    "plt.show()"
   ]
  }
 ],
 "metadata": {
  "kernelspec": {
   "display_name": "base",
   "language": "python",
   "name": "python3"
  },
  "language_info": {
   "codemirror_mode": {
    "name": "ipython",
    "version": 3
   },
   "file_extension": ".py",
   "mimetype": "text/x-python",
   "name": "python",
   "nbconvert_exporter": "python",
   "pygments_lexer": "ipython3",
   "version": "3.8.11"
  }
 },
 "nbformat": 4,
 "nbformat_minor": 2
}
