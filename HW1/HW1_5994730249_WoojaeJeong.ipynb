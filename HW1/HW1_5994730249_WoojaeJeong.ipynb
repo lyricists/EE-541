{
 "cells": [
  {
   "cell_type": "markdown",
   "metadata": {},
   "source": [
    "### 1. Simulate tossing a biased coin (a Bernoulli trial) where P[HEAD] = 0.7\n",
    "\n",
    "##### a) Count the number of heads in 50 trials. Record the longest run of heads."
   ]
  },
  {
   "cell_type": "code",
   "execution_count": 2,
   "metadata": {},
   "outputs": [
    {
     "name": "stdout",
     "output_type": "stream",
     "text": [
      "The longest run = 8\n"
     ]
    }
   ],
   "source": [
    "# Import library\n",
    "import random\n",
    "import numpy as np\n",
    "import matplotlib.pyplot as plt\n",
    "import statistics as stat\n",
    "\n",
    "# Define variables\n",
    "prob_head = 0.7   # Probability of head: 0.7\n",
    "prob_tail = 0.3   # Probability of tail: 0.3\n",
    "toss = 50   # Number of coin toss\n",
    "\n",
    "# Define a function for recording the longest run of heads\n",
    "\n",
    "def bias_coin_toss_head_runs(prob_head, prob_tail, toss):\n",
    "    cnt_head = 0   # Head count\n",
    "    longest_run = 0   # Longest run record\n",
    "\n",
    "    for N in range(toss):\n",
    "        if random.choices([\"Heads\", \"Tails\"], [prob_head, prob_tail]) == [\"Heads\"]:   # Bernoulli coin toss\n",
    "            cnt_head += 1   # Count the number of consecutive heads\n",
    "            longest_run = max(longest_run, cnt_head)   # Compare with the previously recorded consecutive number of heads and select the larger value\n",
    "        else:\n",
    "            cnt_head = 0   # If tail appears reset the number count of heads\n",
    "\n",
    "    return longest_run\n",
    "\n",
    "longest_run = bias_coin_toss_head_runs(prob_head, prob_tail, toss)\n",
    "print(\"The longest run =\", longest_run)"
   ]
  },
  {
   "cell_type": "markdown",
   "metadata": {},
   "source": [
    "##### b) Repeat the 50-flip experiment 20, 100, 200, and 1000 times. Use matplotlib to generate a histogram showing the observed number of heads for each case. Comment on the limit of the histogram."
   ]
  },
  {
   "cell_type": "code",
   "execution_count": 2,
   "metadata": {},
   "outputs": [
    {
     "data": {
      "image/png": "[encoded data removed]",
      "text/plain": [
       "<Figure size 432x288 with 1 Axes>"
      ]
     },
     "metadata": {
      "needs_background": "light"
     },
     "output_type": "display_data"
    }
   ],
   "source": [
    "# Define variables\n",
    "experiment = [20, 100, 200, 1000]   # Number of experiments\n",
    "num_head = []   # Number of heads\n",
    "\n",
    "# Define a function for recording the head counts\n",
    "\n",
    "def bias_coin_toss_head_count(prob_head, prob_tail, toss, experiment):\n",
    "\n",
    "    for N in range(len(experiment)):\n",
    "        cnt_head = 0   # Initial number of heads\n",
    "\n",
    "        for exp in range(experiment[N]):\n",
    "            for t in range(toss):\n",
    "                if random.choices([\"Heads\", \"Tails\"], [prob_head, prob_tail]) == [\"Heads\"]:   # Bernoulli coin toss\n",
    "                    cnt_head += 1   # Count the number of heads\n",
    "                \n",
    "        num_head.append(cnt_head)   # Save the number of heads for each case\n",
    "    return num_head\n",
    "\n",
    "num_head = bias_coin_toss_head_count(prob_head, prob_tail, toss, experiment)\n",
    "\n",
    "plt.bar([\"20\",\"100\",\"200\",\"1000\"], num_head, align='center', alpha=1, width = 1)   # Histogram plot\n",
    "\n",
    "plt.xlabel(\"Experiment (times)\")   # X label\n",
    "plt.ylabel(\"Number of heads\")   # Y label\n",
    "plt.show()"
   ]
  },
  {
   "cell_type": "markdown",
   "metadata": {},
   "source": [
    "##### c) Simulate tossing the coin 500 times. Generate a histogram showing the heads run length."
   ]
  },
  {
   "cell_type": "code",
   "execution_count": 3,
   "metadata": {},
   "outputs": [
    {
     "data": {
      "image/png": "[encoded data removed]",
      "text/plain": [
       "<Figure size 432x288 with 1 Axes>"
      ]
     },
     "metadata": {
      "needs_background": "light"
     },
     "output_type": "display_data"
    }
   ],
   "source": [
    "# Define a variable\n",
    "head_run = []   # Heads run length\n",
    "toss = 500   # Number of coin toss\n",
    "\n",
    "# Define a function for recording the head counts\n",
    "\n",
    "def bias_coin_toss_head(prob_head, prob_tail, toss):\n",
    "    cnt_head = 0   # Head count\n",
    "    cnt_tail = 0   # Tail count\n",
    "\n",
    "    for N in range(toss):\n",
    "        if random.choices([\"Heads\", \"Tails\"], [prob_head, prob_tail]) == [\"Heads\"]:   # Bernoulli coin toss\n",
    "            cnt_tail = 0\n",
    "            cnt_head += 1   # Count the number of consecutive heads\n",
    "        else:\n",
    "            cnt_tail += 1   # Count the number of consecutive tails\n",
    "            \n",
    "            if cnt_tail == 1 & cnt_head != 0:   # Save heads run length when the tail is observed\n",
    "                head_run.append(cnt_head)   # save head runs \n",
    "                cnt_head = 0   # If tail appears reset the number count of heads\n",
    "\n",
    "    return head_run\n",
    "\n",
    "head_run = bias_coin_toss_head(prob_head, prob_tail, toss)\n",
    "\n",
    "# Histogram plot\n",
    "\n",
    "plt.hist(head_run,bins='auto')\n",
    "plt.xlabel(\"Number of head runs\")\n",
    "plt.ylabel(\"Frequency\")\n",
    "plt.show()"
   ]
  },
  {
   "cell_type": "markdown",
   "metadata": {},
   "source": [
    "### 2. Define the random variable as the smallest number of standard uniform random samples whose sum exceeds four. Generate a histogram using 100, 1000, and 10000 realizations of N."
   ]
  },
  {
   "cell_type": "code",
   "execution_count": 6,
   "metadata": {},
   "outputs": [
    {
     "data": {
      "image/png": "[encoded data removed]",
      "text/plain": [
       "<Figure size 864x216 with 3 Axes>"
      ]
     },
     "metadata": {
      "needs_background": "light"
     },
     "output_type": "display_data"
    },
    {
     "name": "stdout",
     "output_type": "stream",
     "text": [
      "Average N = 8.71 (100 reps)\n",
      "Average N = 8.772 (1000 reps)\n",
      "Average N = 8.772 (10000 reps)\n"
     ]
    }
   ],
   "source": [
    "# Define variables\n",
    "N100 = []\n",
    "N1000 = []\n",
    "N10000 = []\n",
    "\n",
    "# Define a function for the simulation\n",
    "\n",
    "def uniform_random_variable(num_real):\n",
    "    N = []   # Number of iteration\n",
    "\n",
    "    for i in range(num_real):\n",
    "        cnt_variable = 0   # Inital N value\n",
    "        sum_variable = 0   # Inital sum of x values\n",
    "\n",
    "        while sum_variable < 4:\n",
    "            sum_variable += random.uniform(0,1)   # Sum of uniform random variables\n",
    "            cnt_variable += 1   # Count the iteration number (N)\n",
    "        \n",
    "        N.append(cnt_variable)\n",
    "    \n",
    "    return N\n",
    "\n",
    "N100 = uniform_random_variable(100)   # N for 100 realization\n",
    "N1000 = uniform_random_variable(1000)  # N for 1000 realization\n",
    "N10000 = uniform_random_variable(10000)   # N for 10000 realization\n",
    "\n",
    "# Histogram plot\n",
    "\n",
    "fig = plt.figure(figsize = (12,3))\n",
    "\n",
    "x = fig.add_subplot(131)   # subplot\n",
    "x.hist(N100, bins='auto')\n",
    "plt.xlabel(\"N\")\n",
    "plt.ylabel(\"Frequency\")\n",
    "plt.title(\"100 realization\")\n",
    "\n",
    "x = fig.add_subplot(132)   # subplot\n",
    "x.hist(N1000, bins='auto')\n",
    "plt.xlabel(\"N\")\n",
    "plt.ylabel(\"Frequency\")\n",
    "plt.title(\"1000 realization\")\n",
    "\n",
    "x = fig.add_subplot(133)   # subplot\n",
    "x.hist(N10000, bins='auto')\n",
    "plt.xlabel(\"N\")\n",
    "plt.ylabel(\"Frequency\")\n",
    "plt.title(\"10000 realization\")\n",
    "plt.show()\n",
    "\n",
    "print(\"Average N =\", stat.mean(N100),\"(100 reps)\")\n",
    "print(\"Average N =\", stat.mean(N1000),\"(1000 reps)\")\n",
    "print(\"Average N =\", stat.mean(N1000),\"(10000 reps)\")"
   ]
  },
  {
   "cell_type": "markdown",
   "metadata": {},
   "source": [
    "As we run more rounds, the expected value of N converges and the sample distribution becomes similar to normal distribution."
   ]
  }
 ],
 "metadata": {
  "kernelspec": {
   "display_name": "Python 3 (ipykernel)",
   "language": "python",
   "name": "python3"
  },
  "language_info": {
   "codemirror_mode": {
    "name": "ipython",
    "version": 3
   },
   "file_extension": ".py",
   "mimetype": "text/x-python",
   "name": "python",
   "nbconvert_exporter": "python",
   "pygments_lexer": "ipython3",
   "version": "3.8.11"
  }
 },
 "nbformat": 4,
 "nbformat_minor": 2
}
