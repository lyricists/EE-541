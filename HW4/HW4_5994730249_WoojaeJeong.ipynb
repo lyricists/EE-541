{
 "cells": [
  {
   "cell_type": "markdown",
   "metadata": {},
   "source": [
    "### 1. MLP"
   ]
  },
  {
   "cell_type": "code",
   "execution_count": 2,
   "metadata": {},
   "outputs": [],
   "source": [
    "# Import library\n",
    "import h5py\n",
    "import numpy as np\n",
    "import matplotlib.pyplot as plt \n",
    "import json\n",
    "\n",
    "# Load pre-trained network\n",
    "\n",
    "# File name\n",
    "Data_fName = 'mnist_network_params.hdf5'\n",
    "\n",
    "# Read data\n",
    "with h5py.File(Data_fName, 'r+') as df:\n",
    "    W1 = df['W1'][:]\n",
    "    W2 = df['W2'][:]\n",
    "    W3 = df['W3'][:]\n",
    "    b1 = df['b1'][:]\n",
    "    b2 = df['b2'][:]\n",
    "    b3 = df['b3'][:]"
   ]
  },
  {
   "cell_type": "markdown",
   "metadata": {},
   "source": [
    "a) Verify the dimension of each numpy array with the shape property."
   ]
  },
  {
   "cell_type": "code",
   "execution_count": 3,
   "metadata": {},
   "outputs": [
    {
     "name": "stdout",
     "output_type": "stream",
     "text": [
      "Dimension of W1 = (200, 784)\n",
      "Dimension of b1 = (200,)\n",
      "Dimension of W2 = (100, 200)\n",
      "Dimension of b2 = (100,)\n",
      "Dimension of W3 = (10, 100)\n",
      "Dimension of b3 = (10,)\n"
     ]
    }
   ],
   "source": [
    "# Verify the dimension of each parameters\n",
    "\n",
    "print('Dimension of W1 =', W1.shape)\n",
    "print('Dimension of b1 =', b1.shape)\n",
    "print('Dimension of W2 =', W2.shape)\n",
    "print('Dimension of b2 =', b2.shape)\n",
    "print('Dimension of W3 =', W3.shape)\n",
    "print('Dimension of b3 =', b3.shape)\n"
   ]
  },
  {
   "cell_type": "markdown",
   "metadata": {},
   "source": [
    "b) Extract image files"
   ]
  },
  {
   "cell_type": "code",
   "execution_count": 4,
   "metadata": {},
   "outputs": [],
   "source": [
    "# File name\n",
    "Data_fName = 'mnist_testdata.hdf5'\n",
    "\n",
    "# Read data\n",
    "with h5py.File(Data_fName, 'r+') as df:\n",
    "    xdata = df['xdata'][:]\n",
    "    ydata = df['ydata'][:]\n"
   ]
  },
  {
   "cell_type": "markdown",
   "metadata": {},
   "source": [
    "c) Write functions to calculate ReLU and softmax"
   ]
  },
  {
   "cell_type": "code",
   "execution_count": 4,
   "metadata": {},
   "outputs": [],
   "source": [
    "# softmax function\n",
    "def softmax(data):\n",
    "    z = np.exp(data)\n",
    "    return z / z.sum(axis = 0)\n",
    "\n",
    "# ReLU function\n",
    "def ReLU(data):\n",
    "    f = np.maximum(0,data)\n",
    "    return f"
   ]
  },
  {
   "cell_type": "markdown",
   "metadata": {},
   "source": [
    "d) Creat an MLP to classify 784-dimensional images into the target 10-dimensional output."
   ]
  },
  {
   "cell_type": "code",
   "execution_count": 5,
   "metadata": {},
   "outputs": [],
   "source": [
    "output = np.zeros((len(xdata),10))\n",
    "\n",
    "for i in range(len(xdata)):\n",
    "    # First layer\n",
    "    a1 = ReLU(np.dot(W1,xdata[i])+b1)\n",
    "\n",
    "    # Second layer\n",
    "    a2 = ReLU(np.dot(W2,a1)+b2)\n",
    "\n",
    "    # Output layer\n",
    "    output[i,:] = softmax(np.dot(W3,a2)+b3)\n",
    "\n",
    "# data\n",
    "data = []\n",
    "\n",
    "for i in range(9990,9999):\n",
    "    data += [{\"Index\": int(i), \"Activations\": output[i,:].tolist(), \"Classification\": int(np.argmax(output[i,:]))}]\n",
    "\n",
    "# Write to .json\n",
    "with open(\"result.json\", \"w\") as f:\n",
    "    f.write(json.dumps(data))"
   ]
  },
  {
   "cell_type": "markdown",
   "metadata": {},
   "source": [
    "e) Compare the prediction with the true label."
   ]
  },
  {
   "cell_type": "code",
   "execution_count": 6,
   "metadata": {},
   "outputs": [
    {
     "name": "stdout",
     "output_type": "stream",
     "text": [
      "Number of correctly classified images: 9790\n"
     ]
    }
   ],
   "source": [
    "result = (np.argmax(output, axis=1) == np.argmax(ydata, axis=1)).sum()\n",
    "print(\"Number of correctly classified images:\", result)"
   ]
  },
  {
   "cell_type": "markdown",
   "metadata": {},
   "source": [
    "f) Visual inspection"
   ]
  },
  {
   "cell_type": "code",
   "execution_count": 13,
   "metadata": {},
   "outputs": [
    {
     "data": {
      "image/png": "[encoded data removed]",
      "text/plain": [
       "<Figure size 864x288 with 3 Axes>"
      ]
     },
     "metadata": {
      "needs_background": "light"
     },
     "output_type": "display_data"
    },
    {
     "data": {
      "image/png": "[encoded data removed]",
      "text/plain": [
       "<Figure size 864x288 with 3 Axes>"
      ]
     },
     "metadata": {
      "needs_background": "light"
     },
     "output_type": "display_data"
    }
   ],
   "source": [
    "result = (np.argmax(output, axis=1) == np.argmax(ydata, axis=1))\n",
    "\n",
    "# Find correct and incorrect index\n",
    "idx_cor = np.where(result == True)[0]\n",
    "idx_incor = np.where(result == False)[0]\n",
    "\n",
    "# Randomly select 3 data from correct and incorrect\n",
    "select_cor = np.random.choice(idx_cor, 3, replace = False)\n",
    "select_incor = np.random.choice(idx_incor, 3, replace = False)\n",
    "\n",
    "fig = plt.figure(figsize = (12,4))\n",
    "\n",
    "x = fig.add_subplot(131)  \n",
    "x.imshow(xdata[select_cor[0]].reshape(28,28))\n",
    "plt.title(\"Correct 1\")\n",
    "\n",
    "x = fig.add_subplot(132)   \n",
    "x.imshow(xdata[select_cor[1]].reshape(28,28))\n",
    "plt.title(\"Correct 2\")\n",
    "\n",
    "x = fig.add_subplot(133)  \n",
    "x.imshow(xdata[select_cor[2]].reshape(28,28))\n",
    "plt.title(\"Correct 3\")\n",
    "plt.show()\n",
    "\n",
    "fig = plt.figure(figsize = (12,4))\n",
    "\n",
    "x = fig.add_subplot(131)  \n",
    "x.imshow(xdata[select_incor[0]].reshape(28,28))\n",
    "plt.title(\"Incorrect 1\")\n",
    "\n",
    "x = fig.add_subplot(132)   \n",
    "x.imshow(xdata[select_incor[1]].reshape(28,28))\n",
    "plt.title(\"Incorrect 2\")\n",
    "\n",
    "x = fig.add_subplot(133)  \n",
    "x.imshow(xdata[select_incor[2]].reshape(28,28))\n",
    "plt.title(\"Incorrect 3\")\n",
    "plt.show()"
   ]
  },
  {
   "cell_type": "markdown",
   "metadata": {},
   "source": [
    "Some of the incorrectly classified images were obvious but some were hard to distinguish."
   ]
  }
 ],
 "metadata": {
  "kernelspec": {
   "display_name": "base",
   "language": "python",
   "name": "python3"
  },
  "language_info": {
   "codemirror_mode": {
    "name": "ipython",
    "version": 3
   },
   "file_extension": ".py",
   "mimetype": "text/x-python",
   "name": "python",
   "nbconvert_exporter": "python",
   "pygments_lexer": "ipython3",
   "version": "3.8.11"
  }
 },
 "nbformat": 4,
 "nbformat_minor": 2
}
